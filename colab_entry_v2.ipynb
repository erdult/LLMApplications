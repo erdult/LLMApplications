{
  "cells": [
    {
      "cell_type": "markdown",
      "metadata": {
        "id": "view-in-github",
        "colab_type": "text"
      },
      "source": [
        "<a href=\"https://colab.research.google.com/github/erdult/LLMApplications/blob/main/colab_entry_v2.ipynb\" target=\"_parent\"><img src=\"https://colab.research.google.com/assets/colab-badge.svg\" alt=\"Open In Colab\"/></a>"
      ]
    },
    {
      "cell_type": "code",
      "execution_count": null,
      "metadata": {
        "id": "e7PvH5cVaWwI"
      },
      "outputs": [],
      "source": [
        "# -*- coding: utf-8 -*-\n",
        "!pip install -q chromadb langchain pypdf2 tiktoken streamlit python-dotenv\n",
        "\n",
        "!pip install --ignore-installed -q langchain-community openai pypdf\n",
        "\n",
        "from google.colab import drive\n",
        "#if you want to use files from the google drive\n",
        "#drive.mount('/content/drive')\n",
        "\n",
        "!wget https://www.goldmansachs.com/media-relations/press-releases/current/pdfs/2024-q1-results.pdf -P /content/pdfdocs\n",
        "\n",
        "load_dotenv()\n",
        "\n",
        "query = \"Who is CEO of Goldman\"\n",
        "response= get_llm_response(query)\n",
        "print(response)\n",
        "\n",
        "query = \"What is amount of total assets for Goldman in Dec 2023\"\n",
        "response= get_llm_response(query)\n",
        "\n",
        "print(response)\n",
        "\n",
        "\"\"\"START STREAMLIT IN COLAB\"\"\"\n",
        "\n",
        "!pip install -q streamlit\n",
        "\n",
        "!wget -q -O - ipv4.icanhazip.com\n",
        "%%writefile app.py\n",
        "import streamlit as st\n",
        "\n",
        "# Streamlit UI not working at the moment\n",
        "# ===============\n",
        "st.set_page_config(page_title=\"Doc Searcher\", page_icon=\":robot:\")\n",
        "st.header(\"Query PDF Source\")\n",
        "\n",
        "form_input = st.text_input('Enter Query')\n",
        "submit = st.button(\"Generate\")\n",
        "\n",
        "if submit:\n",
        "    st.write(get_llm_response(form_input))\n",
        "\n",
        "!npm install localtunnel\n",
        "!streamlit run /content/app.py &>/content/logs.txt &\n",
        "!npx localtunnel --port 8501\n",
        "## open the log file and go to url enter the external url ip address without the port as password\n",
        "\n",
        "\n",
        "\n"
      ]
    }
  ],
  "metadata": {
    "language_info": {
      "name": "python"
    },
    "colab": {
      "provenance": [],
      "include_colab_link": true
    }
  },
  "nbformat": 4,
  "nbformat_minor": 0
}